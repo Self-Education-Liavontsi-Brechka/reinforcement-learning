{
 "cells": [
  {
   "cell_type": "code",
   "execution_count": 8,
   "metadata": {
    "collapsed": true
   },
   "outputs": [],
   "source": [
    "%matplotlib inline\n",
    "\n",
    "import gym\n",
    "import itertools\n",
    "import numpy as np\n",
    "import random\n",
    "import tensorflow as tf\n",
    "import os\n",
    "\n",
    "from gym.wrappers import Monitor\n",
    "from collections import deque, namedtuple"
   ]
  },
  {
   "cell_type": "code",
   "execution_count": 9,
   "metadata": {},
   "outputs": [],
   "source": [
    "ENV = gym.make('CartPole-v0')"
   ]
  },
  {
   "cell_type": "code",
   "execution_count": 10,
   "metadata": {},
   "outputs": [],
   "source": [
    "class StateProcessor:\n",
    "    TF_SCOPE_NAME = 'state_processor'\n",
    "    \n",
    "    def __init__(self):\n",
    "        with tf.variable_scope(StateProcessor.TF_SCOPE_NAME):\n",
    "            self.input_state = tf.placeholder(shape=[210, 160, 3], dtype=tf.uint8)\n",
    "            self.output = tf.image.rgb_to_grayscale(self.input_state)\n",
    "            self.output = tf.image.crop_to_bounding_box(self.output, 34, 0, 160, 160)\n",
    "            self.output = tf.image.resize_images(self.output, [84, 84], tf.image.ResizeMethod.NEAREST_NEIGHBOR)\n",
    "            self.output = tf.squeeze(self.output)\n",
    "    \n",
    "    def process(self, session, state):\n",
    "        return session.run(self.output, {self.input_state: state})"
   ]
  },
  {
   "cell_type": "code",
   "execution_count": 11,
   "metadata": {},
   "outputs": [],
   "source": [
    "class Estimator:\n",
    "    def __init__(self, valid_actions, scope='estimator', summaries_dir=None):\n",
    "        self.valid_actions = valid_actions\n",
    "        self.scope = scope\n",
    "        self.summary_writer = None\n",
    "        with tf.variable_scope(scope):\n",
    "            self._build_model()\n",
    "            if summaries_dir:\n",
    "                summary_dir = os.path.join(summaries_dir, 'summaries_{}'.format(scope))\n",
    "                if not os.path.exists(summary_dir):\n",
    "                    os.makedirs(summary_dir)\n",
    "                self.summary_writer = tf.summary.FileWriter(summary_dir)\n",
    "\n",
    "    def _build_model(self):\n",
    "        self.X_pl = tf.placeholder(shape=[None, 84, 84, 4], dtype=tf.uint8, name='X')\n",
    "        self.Y_pl = tf.placeholder(shape=[None], dtype=tf.float32, name='Y')\n",
    "        self.actions_pl = tf.placeholder(shape=[None], dtype=tf.int32, name='actions')\n",
    "\n",
    "        X = tf.to_float(self.X_pl) / 255.\n",
    "        batch_size = tf.shape(self.X_pl)[0]\n",
    "\n",
    "        conv1 = tf.contrib.layers.conv2d(X, 32, 8, 4, activation_fn=tf.nn.relu)\n",
    "        conv2 = tf.contrib.layers.conv2d(conv1, 64, 4, 2, activation_fn=tf.nn.relu)\n",
    "        conv3 = tf.contrib.layers.conv2d(conv2, 64, 3, 1, activation_fn=tf.nn.relu)\n",
    "        flattened = tf.contrib.layers.flatten(conv3)\n",
    "        fc1 = tf.contrib.layers.fully_connected(flattened, 512)\n",
    "\n",
    "        self.predictions = tf.contrib.layers.fully_connected(fc1, len(self.valid_actions))\n",
    "        \n",
    "        gather_indices = tf.range(batch_size) * len(self.valid_actions) + self.actions_pl\n",
    "        self.action_predictions = tf.gather(tf.reshape(self.predictions, [-1]), gather_indices)\n",
    "        \n",
    "        self.losses = tf.squared_difference(self.Y_pl, self.action_predictions)\n",
    "        self.loss = tf.reduce_mean(self.losses)\n",
    "        \n",
    "        self.optimizer = tf.train.RMSPropOptimizer(0.00025, 0.99, 0.0, 1e-6)\n",
    "        self.train_optimization = self.optimizer.minimize(self.loss, tf.train.get_global_step())\n",
    "        \n",
    "        self.summaries = tf.summary.merge([\n",
    "            tf.summary.scalar('loss', self.loss),\n",
    "            tf.summary.histogram('loss_hist', self.losses),\n",
    "            tf.summary.histogram('q_values_hist', self.predictions),\n",
    "            tf.summary.scalar('max_q_value', tf.reduce_max(self.predictions))\n",
    "        ])\n",
    "\n",
    "    def predict(self, session, s):\n",
    "        return session.run(self.predictions, {self.X_pl: s})\n",
    "\n",
    "    def update(self, session, s, a, targets):\n",
    "        feed_dict = {self.X_pl: s, self.Y_pl: targets, self.actions_pl: a}\n",
    "        summaries, global_step, _, loss = session.run(\n",
    "            [self.summaries, tf.train.get_global_step(), self.train_optimization, self.loss],\n",
    "            feed_dict\n",
    "        )\n",
    "        \n",
    "        if self.summary_writer:\n",
    "            self.summary_writer.add_summary(summaries, global_step)\n"
   ]
  },
  {
   "cell_type": "code",
   "execution_count": null,
   "metadata": {},
   "outputs": [],
   "source": [
    "tf.reset_default_graph()\n",
    "global_step = tf.Variable(0, name='global_step', trainable=False)\n",
    "\n",
    "e = Estimator(ENV.action_space.n, scope='test')\n",
    "sp = StateProcessor()\n",
    "\n",
    "with tf.Session() as sess:\n",
    "    sess.run(tf.global_variables_initializer())\n",
    "    \n",
    "    s = ENV.reset()\n",
    "    s_p = sp.process(sess, s)\n",
    "    \n",
    "    "
   ]
  }
 ],
 "metadata": {
  "kernelspec": {
   "display_name": "Python 2",
   "language": "python",
   "name": "python2"
  },
  "language_info": {
   "codemirror_mode": {
    "name": "ipython",
    "version": 2
   },
   "file_extension": ".py",
   "mimetype": "text/x-python",
   "name": "python",
   "nbconvert_exporter": "python",
   "pygments_lexer": "ipython2",
   "version": "2.7.6"
  }
 },
 "nbformat": 4,
 "nbformat_minor": 0
}
